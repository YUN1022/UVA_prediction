{
 "cells": [
  {
   "cell_type": "code",
   "execution_count": 1,
   "metadata": {},
   "outputs": [],
   "source": [
    "import pandas as pd\n",
    "\n",
    "datasets = pd.read_excel('database.xlsx')\n",
    "CPE_data = pd.read_excel('data_CPE.xlsx')\n",
    "UVA_data = pd.read_excel('data_UVa.xlsx')"
   ]
  },
  {
   "cell_type": "code",
   "execution_count": 2,
   "metadata": {},
   "outputs": [
    {
     "data": {
      "text/html": [
       "<div>\n",
       "<style scoped>\n",
       "    .dataframe tbody tr th:only-of-type {\n",
       "        vertical-align: middle;\n",
       "    }\n",
       "\n",
       "    .dataframe tbody tr th {\n",
       "        vertical-align: top;\n",
       "    }\n",
       "\n",
       "    .dataframe thead th {\n",
       "        text-align: right;\n",
       "    }\n",
       "</style>\n",
       "<table border=\"1\" class=\"dataframe\">\n",
       "  <thead>\n",
       "    <tr style=\"text-align: right;\">\n",
       "      <th></th>\n",
       "      <th>tittle_num</th>\n",
       "      <th>tittle</th>\n",
       "      <th>Submissions_Solving_count</th>\n",
       "      <th>Submissions_Solving</th>\n",
       "      <th>Users_Solving_count</th>\n",
       "      <th>Users_Solving</th>\n",
       "      <th>pdf_link</th>\n",
       "      <th>text</th>\n",
       "      <th>description</th>\n",
       "      <th>Input</th>\n",
       "      <th>Output</th>\n",
       "      <th>Sample Input</th>\n",
       "      <th>Sample output</th>\n",
       "    </tr>\n",
       "  </thead>\n",
       "  <tbody>\n",
       "    <tr>\n",
       "      <th>0</th>\n",
       "      <td>100</td>\n",
       "      <td>100 - The 3n + 1 problem</td>\n",
       "      <td>824754</td>\n",
       "      <td>26.48%</td>\n",
       "      <td>125125</td>\n",
       "      <td>73.18%</td>\n",
       "      <td>https://uva.onlinejudge.org/external/1/100.pdf</td>\n",
       "      <td>100 The 3n + 1 problem\\nProblems in Computer S...</td>\n",
       "      <td>100 The 3n+ 1 problem Problems in Computer Sci...</td>\n",
       "      <td>The input will consist of a series of pairs of...</td>\n",
       "      <td>For each pair of input integers i and j you sh...</td>\n",
       "      <td>1 10 100 200 201 210 900 1000 Universidad de V...</td>\n",
       "      <td>1 10 20 100 200 125 201 210 89 900 1000 174</td>\n",
       "    </tr>\n",
       "    <tr>\n",
       "      <th>1</th>\n",
       "      <td>101</td>\n",
       "      <td>101 - The Blocks Problem</td>\n",
       "      <td>107708</td>\n",
       "      <td>23.77%</td>\n",
       "      <td>21856</td>\n",
       "      <td>68.87%</td>\n",
       "      <td>https://uva.onlinejudge.org/external/1/101.pdf</td>\n",
       "      <td>101 The Blocks Problem\\nMany areas of Computer...</td>\n",
       "      <td>101 The Blocks Problem Many areas of Computer ...</td>\n",
       "      <td>The input begins with an integer n on a line b...</td>\n",
       "      <td>The output should consist of the final state o...</td>\n",
       "      <td>10 move 9 onto 1 move 8 over 1 move 7 over 1 m...</td>\n",
       "      <td>0: 0 1: 1 9 2 4 2: 3: 3 4: 5: 5 8 7 6 6: 7: 8: 9:</td>\n",
       "    </tr>\n",
       "    <tr>\n",
       "      <th>2</th>\n",
       "      <td>102</td>\n",
       "      <td>102 - Ecological Bin Packing</td>\n",
       "      <td>103884</td>\n",
       "      <td>39.05%</td>\n",
       "      <td>29860</td>\n",
       "      <td>87.18%</td>\n",
       "      <td>https://uva.onlinejudge.org/external/1/102.pdf</td>\n",
       "      <td>102 Ecological Bin Packing\\nBin packing, or th...</td>\n",
       "      <td>102 Ecological Bin Packing Bin packing, or the...</td>\n",
       "      <td>The input consists of a series of lines with e...</td>\n",
       "      <td>For each line of input there will be one line ...</td>\n",
       "      <td>1 2 3 4 5 6 7 8 9 5 10 5 20 10 5 10 20 10 Univ...</td>\n",
       "      <td>BCG 30 CBG 50</td>\n",
       "    </tr>\n",
       "    <tr>\n",
       "      <th>3</th>\n",
       "      <td>103</td>\n",
       "      <td>103 - Stacking Boxes</td>\n",
       "      <td>43805</td>\n",
       "      <td>25.71%</td>\n",
       "      <td>11524</td>\n",
       "      <td>59.83%</td>\n",
       "      <td>https://uva.onlinejudge.org/external/1/103.pdf</td>\n",
       "      <td>103 Stacking Boxes\\nSome concepts in Mathemati...</td>\n",
       "      <td>103 Stacking Boxes Some concepts in Mathematic...</td>\n",
       "      <td>The input consists of a series of box sequence...</td>\n",
       "      <td>For each box sequence in the input file, outpu...</td>\n",
       "      <td>5 2 3 7 8 10 5 2 9 11 21 18 8 6 5 2 20 1 30 10...</td>\n",
       "      <td>5 3 1 2 4 5 4 7 2 5 6</td>\n",
       "    </tr>\n",
       "    <tr>\n",
       "      <th>4</th>\n",
       "      <td>104</td>\n",
       "      <td>104 - Arbitrage</td>\n",
       "      <td>31470</td>\n",
       "      <td>24.38%</td>\n",
       "      <td>6517</td>\n",
       "      <td>67.88%</td>\n",
       "      <td>https://uva.onlinejudge.org/external/1/104.pdf</td>\n",
       "      <td>104 Arbitrage\\nThe use of computers in the fin...</td>\n",
       "      <td>104 Arbitrage The use of computers in the fina...</td>\n",
       "      <td>The input file consists of one or more convers...</td>\n",
       "      <td>For each table in the input file you must dete...</td>\n",
       "      <td>3 1.2 .89 .88 5.1 1.1 0.15 4 3.1 0.21 200 2.11...</td>\n",
       "      <td>1 2 1 1 2 4 1 no arbitrage sequence exists</td>\n",
       "    </tr>\n",
       "  </tbody>\n",
       "</table>\n",
       "</div>"
      ],
      "text/plain": [
       "   tittle_num                        tittle  Submissions_Solving_count  \\\n",
       "0         100      100 - The 3n + 1 problem                     824754   \n",
       "1         101      101 - The Blocks Problem                     107708   \n",
       "2         102  102 - Ecological Bin Packing                     103884   \n",
       "3         103          103 - Stacking Boxes                      43805   \n",
       "4         104               104 - Arbitrage                      31470   \n",
       "\n",
       "  Submissions_Solving  Users_Solving_count Users_Solving  \\\n",
       "0              26.48%               125125        73.18%   \n",
       "1              23.77%                21856        68.87%   \n",
       "2              39.05%                29860        87.18%   \n",
       "3              25.71%                11524        59.83%   \n",
       "4              24.38%                 6517        67.88%   \n",
       "\n",
       "                                         pdf_link  \\\n",
       "0  https://uva.onlinejudge.org/external/1/100.pdf   \n",
       "1  https://uva.onlinejudge.org/external/1/101.pdf   \n",
       "2  https://uva.onlinejudge.org/external/1/102.pdf   \n",
       "3  https://uva.onlinejudge.org/external/1/103.pdf   \n",
       "4  https://uva.onlinejudge.org/external/1/104.pdf   \n",
       "\n",
       "                                                text  \\\n",
       "0  100 The 3n + 1 problem\\nProblems in Computer S...   \n",
       "1  101 The Blocks Problem\\nMany areas of Computer...   \n",
       "2  102 Ecological Bin Packing\\nBin packing, or th...   \n",
       "3  103 Stacking Boxes\\nSome concepts in Mathemati...   \n",
       "4  104 Arbitrage\\nThe use of computers in the fin...   \n",
       "\n",
       "                                         description  \\\n",
       "0  100 The 3n+ 1 problem Problems in Computer Sci...   \n",
       "1  101 The Blocks Problem Many areas of Computer ...   \n",
       "2  102 Ecological Bin Packing Bin packing, or the...   \n",
       "3  103 Stacking Boxes Some concepts in Mathematic...   \n",
       "4  104 Arbitrage The use of computers in the fina...   \n",
       "\n",
       "                                               Input  \\\n",
       "0  The input will consist of a series of pairs of...   \n",
       "1  The input begins with an integer n on a line b...   \n",
       "2  The input consists of a series of lines with e...   \n",
       "3  The input consists of a series of box sequence...   \n",
       "4  The input file consists of one or more convers...   \n",
       "\n",
       "                                              Output  \\\n",
       "0  For each pair of input integers i and j you sh...   \n",
       "1  The output should consist of the final state o...   \n",
       "2  For each line of input there will be one line ...   \n",
       "3  For each box sequence in the input file, outpu...   \n",
       "4  For each table in the input file you must dete...   \n",
       "\n",
       "                                        Sample Input  \\\n",
       "0  1 10 100 200 201 210 900 1000 Universidad de V...   \n",
       "1  10 move 9 onto 1 move 8 over 1 move 7 over 1 m...   \n",
       "2  1 2 3 4 5 6 7 8 9 5 10 5 20 10 5 10 20 10 Univ...   \n",
       "3  5 2 3 7 8 10 5 2 9 11 21 18 8 6 5 2 20 1 30 10...   \n",
       "4  3 1.2 .89 .88 5.1 1.1 0.15 4 3.1 0.21 200 2.11...   \n",
       "\n",
       "                                       Sample output  \n",
       "0        1 10 20 100 200 125 201 210 89 900 1000 174  \n",
       "1  0: 0 1: 1 9 2 4 2: 3: 3 4: 5: 5 8 7 6 6: 7: 8: 9:  \n",
       "2                                      BCG 30 CBG 50  \n",
       "3                              5 3 1 2 4 5 4 7 2 5 6  \n",
       "4         1 2 1 1 2 4 1 no arbitrage sequence exists  "
      ]
     },
     "execution_count": 2,
     "metadata": {},
     "output_type": "execute_result"
    }
   ],
   "source": [
    "datasets.head()"
   ]
  },
  {
   "cell_type": "code",
   "execution_count": 3,
   "metadata": {},
   "outputs": [
    {
     "data": {
      "text/html": [
       "<div>\n",
       "<style scoped>\n",
       "    .dataframe tbody tr th:only-of-type {\n",
       "        vertical-align: middle;\n",
       "    }\n",
       "\n",
       "    .dataframe tbody tr th {\n",
       "        vertical-align: top;\n",
       "    }\n",
       "\n",
       "    .dataframe thead th {\n",
       "        text-align: right;\n",
       "    }\n",
       "</style>\n",
       "<table border=\"1\" class=\"dataframe\">\n",
       "  <thead>\n",
       "    <tr style=\"text-align: right;\">\n",
       "      <th></th>\n",
       "      <th>tittle_num</th>\n",
       "      <th>tittle</th>\n",
       "      <th>description</th>\n",
       "      <th>Input</th>\n",
       "      <th>Output</th>\n",
       "      <th>Level</th>\n",
       "    </tr>\n",
       "  </thead>\n",
       "  <tbody>\n",
       "    <tr>\n",
       "      <th>0</th>\n",
       "      <td>100</td>\n",
       "      <td>100 - The 3n + 1 problem</td>\n",
       "      <td>100 The 3n+ 1 problem Problems in Computer Sci...</td>\n",
       "      <td>The input will consist of a series of pairs of...</td>\n",
       "      <td>For each pair of input integers i and j you sh...</td>\n",
       "      <td>1</td>\n",
       "    </tr>\n",
       "    <tr>\n",
       "      <th>1</th>\n",
       "      <td>105</td>\n",
       "      <td>105 - The Skyline Problem</td>\n",
       "      <td>105 The Skyline Problem With the advent of hig...</td>\n",
       "      <td>The input is a sequence of building triples. A...</td>\n",
       "      <td>The output should consist of the vector that d...</td>\n",
       "      <td>1</td>\n",
       "    </tr>\n",
       "    <tr>\n",
       "      <th>2</th>\n",
       "      <td>108</td>\n",
       "      <td>108 - Maximum Sum</td>\n",
       "      <td>108 Maximum Sum A problem that is simple to so...</td>\n",
       "      <td>The input consists of an N( cid:2) N array of ...</td>\n",
       "      <td>The output is the sum of the maximal sub-recta...</td>\n",
       "      <td>1</td>\n",
       "    </tr>\n",
       "    <tr>\n",
       "      <th>3</th>\n",
       "      <td>118</td>\n",
       "      <td>118 - Mutant Flatworld Explorers</td>\n",
       "      <td>118 Mutant Flatworld Explorers Robotics, robot...</td>\n",
       "      <td>is terminated by end-of-file. You may assume t...</td>\n",
       "      <td>For each robot position/instruction in the inp...</td>\n",
       "      <td>1</td>\n",
       "    </tr>\n",
       "    <tr>\n",
       "      <th>4</th>\n",
       "      <td>122</td>\n",
       "      <td>122 - Trees on the level</td>\n",
       "      <td>122 Trees on the level Trees are fundamental i...</td>\n",
       "      <td>is terminated by end-of-file.</td>\n",
       "      <td>For each completely specified binary tree in t...</td>\n",
       "      <td>3</td>\n",
       "    </tr>\n",
       "  </tbody>\n",
       "</table>\n",
       "</div>"
      ],
      "text/plain": [
       "   tittle_num                            tittle  \\\n",
       "0         100          100 - The 3n + 1 problem   \n",
       "1         105         105 - The Skyline Problem   \n",
       "2         108                 108 - Maximum Sum   \n",
       "3         118  118 - Mutant Flatworld Explorers   \n",
       "4         122          122 - Trees on the level   \n",
       "\n",
       "                                         description  \\\n",
       "0  100 The 3n+ 1 problem Problems in Computer Sci...   \n",
       "1  105 The Skyline Problem With the advent of hig...   \n",
       "2  108 Maximum Sum A problem that is simple to so...   \n",
       "3  118 Mutant Flatworld Explorers Robotics, robot...   \n",
       "4  122 Trees on the level Trees are fundamental i...   \n",
       "\n",
       "                                               Input  \\\n",
       "0  The input will consist of a series of pairs of...   \n",
       "1  The input is a sequence of building triples. A...   \n",
       "2  The input consists of an N( cid:2) N array of ...   \n",
       "3  is terminated by end-of-file. You may assume t...   \n",
       "4                      is terminated by end-of-file.   \n",
       "\n",
       "                                              Output  Level  \n",
       "0  For each pair of input integers i and j you sh...      1  \n",
       "1  The output should consist of the vector that d...      1  \n",
       "2  The output is the sum of the maximal sub-recta...      1  \n",
       "3  For each robot position/instruction in the inp...      1  \n",
       "4  For each completely specified binary tree in t...      3  "
      ]
     },
     "execution_count": 3,
     "metadata": {},
     "output_type": "execute_result"
    }
   ],
   "source": [
    "CPE_data.head()"
   ]
  },
  {
   "cell_type": "code",
   "execution_count": 27,
   "metadata": {},
   "outputs": [],
   "source": [
    "import nltk\n",
    "from nltk.corpus import stopwords \n",
    "from nltk.tokenize import word_tokenize \n",
    "\n",
    "def del_stopwords(sent):\n",
    "    stop_words = set(stopwords.words('english'))\n",
    "    word_tokens = word_tokenize(sent) \n",
    "    \n",
    "    filtered_sentence = [w for w in word_tokens if w.isalpha() ] #w not  in stop_words and\n",
    "    \n",
    "    return ' '.join(filtered_sentence)"
   ]
  },
  {
   "cell_type": "code",
   "execution_count": 28,
   "metadata": {},
   "outputs": [
    {
     "data": {
      "text/plain": [
       "'The problem Problems Computer Science often classified belonging certain class problems NP Unsolvable Recursive In problem analyzing property algorithm whose classification known possible inputs input n print n STOP n odd n else n Consider following algorithm GOTO Given input following sequence numbers printed It conjectured algorithm terminate printed integral input value Despite simplicity algorithm unknown whether conjecture true It verified however integers n n fact many numbers Given input n possible determine number numbers printed including printed For given n called In example cycle length For two numbers j determine maximum cycle length numbers including j'"
      ]
     },
     "execution_count": 28,
     "metadata": {},
     "output_type": "execute_result"
    }
   ],
   "source": [
    "del_stopwords('100 The 3n+ 1 problem Problems Computer Science often classified belonging certain class problems ( e.g. , NP , Unsolvable , Recursive ) . In problem analyzing property algorithm whose classification known possible inputs . input n print n n= 1 STOP n odd n ( cid:0 ) 3n+ 1 else n ( cid:0 ) n/2 Consider following algorithm : 1 . 2 . 3 . 4 . 5 . 6 . GOTO 2 Given input 22 , following sequence numbers printed 22 11 34 17 52 26 13 40 20 10 5 16 8 4 2 1 It conjectured algorithm terminate ( 1 printed ) integral input value . Despite simplicity algorithm , unknown whether conjecture true . It verified , however , integers n 0 < n < 1 ; 000 ; 000 ( , fact , many numbers . ) Given input n , possible determine number numbers printed including 1 printed . For given n called cycle-length n. In example , cycle length 22 16 . For two numbers j determine maximum cycle length numbers including j .')"
   ]
  },
  {
   "cell_type": "code",
   "execution_count": 49,
   "metadata": {},
   "outputs": [],
   "source": [
    "database_Input=[]\n",
    "database_ouput=[]\n",
    "database_des=[]\n",
    "\n",
    "for i,j,k in zip(datasets.to_dict()['Input'].values(), datasets.to_dict()['Output'].values(), datasets.to_dict()['description'].values()):\n",
    "    database_Input.append(del_stopwords(str(i)))\n",
    "    #database_ouput.append(str(j))\n",
    "    #database_des.append(del_stopwords(str(k)))"
   ]
  },
  {
   "cell_type": "code",
   "execution_count": 50,
   "metadata": {},
   "outputs": [
    {
     "data": {
      "text/plain": [
       "'2.1.0'"
      ]
     },
     "execution_count": 50,
     "metadata": {},
     "output_type": "execute_result"
    }
   ],
   "source": [
    "import tensorflow as tf\n",
    "from tensorflow import keras\n",
    "\n",
    "tf.__version__"
   ]
  },
  {
   "cell_type": "code",
   "execution_count": 52,
   "metadata": {},
   "outputs": [
    {
     "data": {
      "text/plain": [
       "4950"
      ]
     },
     "execution_count": 52,
     "metadata": {},
     "output_type": "execute_result"
    }
   ],
   "source": [
    "len(database_Input)"
   ]
  },
  {
   "cell_type": "markdown",
   "metadata": {},
   "source": [
    "## 把全部資料做成字典"
   ]
  },
  {
   "cell_type": "code",
   "execution_count": 53,
   "metadata": {},
   "outputs": [
    {
     "name": "stdout",
     "output_type": "stream",
     "text": [
      "[1, 11, 15, 144, 2, 3, 231, 2, 170, 2, 22, 67, 5, 121, 30, 132, 2, 22, 150, 4, 64, 22, 15, 17, 147, 57, 5, 228, 57, 59, 88, 336, 64, 170, 2, 22, 5, 32, 6, 132, 569, 1, 200, 838, 100, 583, 64, 22, 63, 5, 448, 67, 5, 121, 59, 76, 108, 25, 61, 501, 4137, 3, 19]\n"
     ]
    }
   ],
   "source": [
    "from keras.preprocessing.text import Tokenizer\n",
    "from keras.preprocessing.sequence import pad_sequences\n",
    "text = database_Input\n",
    "\n",
    "tokenizer = Tokenizer(10000) #前10000常出現單字\n",
    "tokenizer.fit_on_texts(text) #建立字典\n",
    "squences_all_Input = tokenizer.texts_to_sequences(text) #轉成ky值\n",
    "word_index=tokenizer.word_index #文字與索引的詞彙表\n",
    "\n",
    "print(squences_all_Input[0])"
   ]
  },
  {
   "cell_type": "code",
   "execution_count": 54,
   "metadata": {},
   "outputs": [
    {
     "data": {
      "text/plain": [
       "'The input will consist of a series of pairs of integers i and j one pair of integers per line All integers will be less than and greater than You should process all pairs of integers and for each pair determine the maximum cycle length over all integers between and including i and j You can assume that no operation overflows a integer'"
      ]
     },
     "execution_count": 54,
     "metadata": {},
     "output_type": "execute_result"
    }
   ],
   "source": [
    "text[0]"
   ]
  },
  {
   "cell_type": "code",
   "execution_count": 55,
   "metadata": {},
   "outputs": [
    {
     "name": "stdout",
     "output_type": "stream",
     "text": [
      "8543\n"
     ]
    }
   ],
   "source": [
    "print(len(word_index))"
   ]
  },
  {
   "cell_type": "code",
   "execution_count": 56,
   "metadata": {},
   "outputs": [
    {
     "name": "stdout",
     "output_type": "stream",
     "text": [
      "1 192 10\n"
     ]
    }
   ],
   "source": [
    "print(word_index['the'], word_index['problem'], word_index['in'])"
   ]
  },
  {
   "cell_type": "markdown",
   "metadata": {},
   "source": [
    "## 載入訓練資料(CPE)"
   ]
  },
  {
   "cell_type": "code",
   "execution_count": 57,
   "metadata": {},
   "outputs": [
    {
     "name": "stdout",
     "output_type": "stream",
     "text": [
      "994\n"
     ]
    }
   ],
   "source": [
    "CPE_Input=[]\n",
    "CPE_ouput=[]\n",
    "CPE_des=[]\n",
    "CPE_Level=[]\n",
    "\n",
    "for i,j,k,l in zip(CPE_data.to_dict()['Input'].values(), CPE_data.to_dict()['Output'].values(), CPE_data.to_dict()['description'].values(), CPE_data.to_dict()['Level'].values()):\n",
    "    CPE_Input.append(del_stopwords(str(i)))\n",
    "    #CPE_ouput.append(str(j))\n",
    "    #CPE_des.append(del_stopwords(str(k)))\n",
    "    CPE_Level.append(int(l))\n",
    "    \n",
    "print(len(CPE_Input))"
   ]
  },
  {
   "cell_type": "code",
   "execution_count": 58,
   "metadata": {},
   "outputs": [
    {
     "name": "stdout",
     "output_type": "stream",
     "text": [
      "[1, 11, 15, 144, 2, 3, 231, 2, 170, 2, 22, 67, 5, 121, 30, 132, 2, 22, 150, 4, 64, 22, 15, 17, 147, 57, 5, 228, 57, 59, 88, 336, 64, 170, 2, 22, 5, 32, 6, 132, 569, 1, 200, 838, 100, 583, 64, 22, 63, 5, 448, 67, 5, 121, 59, 76, 108, 25, 61, 501, 4137, 3, 19]\n"
     ]
    }
   ],
   "source": [
    "CPE_text = CPE_Input\n",
    "squences_CPE = tokenizer.texts_to_sequences(CPE_text)\n",
    "word_index_CPE=tokenizer.word_index\n",
    "\n",
    "print(squences_CPE[0])"
   ]
  },
  {
   "cell_type": "code",
   "execution_count": 59,
   "metadata": {},
   "outputs": [
    {
     "name": "stdout",
     "output_type": "stream",
     "text": [
      "(994, 100)\n"
     ]
    }
   ],
   "source": [
    "import numpy as np\n",
    "data=pad_sequences(squences_CPE,maxlen=100) #取評論的後100個字\n",
    "\n",
    "print(data.shape)"
   ]
  },
  {
   "cell_type": "markdown",
   "metadata": {},
   "source": [
    "## 標籤像量化"
   ]
  },
  {
   "cell_type": "code",
   "execution_count": 60,
   "metadata": {},
   "outputs": [],
   "source": [
    "labels = []\n",
    "for i in CPE_Level:\n",
    "    temp=[0,0,0,0,0]\n",
    "    temp[i-1]+=1\n",
    "    labels.append(temp)\n",
    "\n",
    "labels = np.asarray(labels)"
   ]
  },
  {
   "cell_type": "code",
   "execution_count": 74,
   "metadata": {},
   "outputs": [],
   "source": [
    "indices = np.arange(data.shape[0])\n",
    "np.random.shuffle(indices)\n",
    "data = data[indices]\n",
    "labels = labels[indices]\n",
    "\n",
    "x_train = data[:600]\n",
    "y_train = labels[:600]\n",
    "x_val = data[600:]\n",
    "y_val = labels[600:]"
   ]
  },
  {
   "cell_type": "markdown",
   "metadata": {},
   "source": [
    "## 解析glove.6B.100d，構建一個索引字典，將文字投射到對應的向量表示法"
   ]
  },
  {
   "cell_type": "code",
   "execution_count": 40,
   "metadata": {},
   "outputs": [
    {
     "name": "stdout",
     "output_type": "stream",
     "text": [
      "400000\n"
     ]
    }
   ],
   "source": [
    "import os\n",
    "\n",
    "embeddings_index = {} #建立嵌入向量索引字典，儲存 字 : 向量\n",
    "f = open('glove.6B.100d.txt',encoding='UTF-8')\n",
    "for line in f:\n",
    "    values = line.split()\n",
    "    word = values[0] #文字\n",
    "    coefs = np.asarray(values[1:],dtype='float32') #將座標轉換成 Numpy array\n",
    "    embeddings_index[word] = coefs #儲存文字與向量\n",
    "    \n",
    "f.close()\n",
    "print(len(embeddings_index))"
   ]
  },
  {
   "cell_type": "code",
   "execution_count": 62,
   "metadata": {},
   "outputs": [
    {
     "data": {
      "text/plain": [
       "array([-0.038194, -0.24487 ,  0.72812 , -0.39961 ,  0.083172,  0.043953,\n",
       "       -0.39141 ,  0.3344  , -0.57545 ,  0.087459,  0.28787 , -0.06731 ,\n",
       "        0.30906 , -0.26384 , -0.13231 , -0.20757 ,  0.33395 , -0.33848 ,\n",
       "       -0.31743 , -0.48336 ,  0.1464  , -0.37304 ,  0.34577 ,  0.052041,\n",
       "        0.44946 , -0.46971 ,  0.02628 , -0.54155 , -0.15518 , -0.14107 ,\n",
       "       -0.039722,  0.28277 ,  0.14393 ,  0.23464 , -0.31021 ,  0.086173,\n",
       "        0.20397 ,  0.52624 ,  0.17164 , -0.082378, -0.71787 , -0.41531 ,\n",
       "        0.20335 , -0.12763 ,  0.41367 ,  0.55187 ,  0.57908 , -0.33477 ,\n",
       "       -0.36559 , -0.54857 , -0.062892,  0.26584 ,  0.30205 ,  0.99775 ,\n",
       "       -0.80481 , -3.0243  ,  0.01254 , -0.36942 ,  2.2167  ,  0.72201 ,\n",
       "       -0.24978 ,  0.92136 ,  0.034514,  0.46745 ,  1.1079  , -0.19358 ,\n",
       "       -0.074575,  0.23353 , -0.052062, -0.22044 ,  0.057162, -0.15806 ,\n",
       "       -0.30798 , -0.41625 ,  0.37972 ,  0.15006 , -0.53212 , -0.2055  ,\n",
       "       -1.2526  ,  0.071624,  0.70565 ,  0.49744 , -0.42063 ,  0.26148 ,\n",
       "       -1.538   , -0.30223 , -0.073438, -0.28312 ,  0.37104 , -0.25217 ,\n",
       "        0.016215, -0.017099, -0.38984 ,  0.87424 , -0.72569 , -0.51058 ,\n",
       "       -0.52028 , -0.1459  ,  0.8278  ,  0.27062 ], dtype=float32)"
      ]
     },
     "execution_count": 62,
     "metadata": {},
     "output_type": "execute_result"
    }
   ],
   "source": [
    "embeddings_index.get('the')"
   ]
  },
  {
   "cell_type": "code",
   "execution_count": 63,
   "metadata": {},
   "outputs": [
    {
     "name": "stdout",
     "output_type": "stream",
     "text": [
      "(8544, 100)\n"
     ]
    }
   ],
   "source": [
    "embeddings_dim = 100\n",
    "embeddings_matrix = np.zeros((len(word_index)+1,embeddings_dim))\n",
    "print(embeddings_matrix.shape)"
   ]
  },
  {
   "cell_type": "code",
   "execution_count": 64,
   "metadata": {},
   "outputs": [],
   "source": [
    "for word,i in word_index.items():\n",
    "    embedding_vec = embeddings_index.get(word)\n",
    "    if embedding_vec is not None:\n",
    "        embeddings_matrix[i] = embedding_vec"
   ]
  },
  {
   "cell_type": "code",
   "execution_count": 75,
   "metadata": {},
   "outputs": [
    {
     "name": "stdout",
     "output_type": "stream",
     "text": [
      "Model: \"sequential_4\"\n",
      "_________________________________________________________________\n",
      "Layer (type)                 Output Shape              Param #   \n",
      "=================================================================\n",
      "embedding_4 (Embedding)      (None, 100, 100)          1000000   \n",
      "_________________________________________________________________\n",
      "lstm_4 (LSTM)                (None, 64)                42240     \n",
      "_________________________________________________________________\n",
      "dense_12 (Dense)             (None, 32)                2080      \n",
      "_________________________________________________________________\n",
      "dense_13 (Dense)             (None, 16)                528       \n",
      "_________________________________________________________________\n",
      "dense_14 (Dense)             (None, 5)                 85        \n",
      "=================================================================\n",
      "Total params: 1,044,933\n",
      "Trainable params: 1,044,933\n",
      "Non-trainable params: 0\n",
      "_________________________________________________________________\n"
     ]
    }
   ],
   "source": [
    "model = keras.Sequential([\n",
    "    keras.layers.Embedding(10000,100,input_length=100),\n",
    "    keras.layers.LSTM(64),\n",
    "    keras.layers.Dense(32,activation='relu'),\n",
    "    keras.layers.Dense(16,activation='relu'),\n",
    "    keras.layers.Dense(5,activation='softmax')\n",
    "])\n",
    "\n",
    "model.summary()"
   ]
  },
  {
   "cell_type": "code",
   "execution_count": 76,
   "metadata": {},
   "outputs": [],
   "source": [
    "model.compile(optimizer='rmsprop',\n",
    "             loss='categorical_crossentropy',\n",
    "             metrics=['accuracy'])"
   ]
  },
  {
   "cell_type": "code",
   "execution_count": 77,
   "metadata": {},
   "outputs": [
    {
     "name": "stdout",
     "output_type": "stream",
     "text": [
      "Train on 600 samples, validate on 394 samples\n",
      "Epoch 1/20\n",
      "600/600 [==============================] - 2s 4ms/sample - loss: 1.4718 - accuracy: 0.3067 - val_loss: 1.4820 - val_accuracy: 0.2995\n",
      "Epoch 2/20\n",
      "600/600 [==============================] - 0s 786us/sample - loss: 1.3922 - accuracy: 0.3383 - val_loss: 1.5353 - val_accuracy: 0.2995\n",
      "Epoch 3/20\n",
      "600/600 [==============================] - 0s 734us/sample - loss: 1.3888 - accuracy: 0.3517 - val_loss: 1.4890 - val_accuracy: 0.2995\n",
      "Epoch 4/20\n",
      "600/600 [==============================] - 0s 743us/sample - loss: 1.3711 - accuracy: 0.3533 - val_loss: 1.4958 - val_accuracy: 0.3020\n",
      "Epoch 5/20\n",
      "600/600 [==============================] - 0s 747us/sample - loss: 1.3311 - accuracy: 0.4267 - val_loss: 1.4648 - val_accuracy: 0.3299\n",
      "Epoch 6/20\n",
      "600/600 [==============================] - 0s 759us/sample - loss: 1.2462 - accuracy: 0.4817 - val_loss: 1.5310 - val_accuracy: 0.3274\n",
      "Epoch 7/20\n",
      "600/600 [==============================] - 0s 803us/sample - loss: 1.1466 - accuracy: 0.4933 - val_loss: 1.5667 - val_accuracy: 0.3223\n",
      "Epoch 8/20\n",
      "600/600 [==============================] - 0s 769us/sample - loss: 1.0486 - accuracy: 0.5583 - val_loss: 1.6602 - val_accuracy: 0.3198\n",
      "Epoch 9/20\n",
      "600/600 [==============================] - 0s 736us/sample - loss: 0.9357 - accuracy: 0.6467 - val_loss: 1.6487 - val_accuracy: 0.3325\n",
      "Epoch 10/20\n",
      "600/600 [==============================] - 0s 769us/sample - loss: 0.8494 - accuracy: 0.6867 - val_loss: 1.8302 - val_accuracy: 0.3173\n",
      "Epoch 11/20\n",
      "600/600 [==============================] - 0s 749us/sample - loss: 0.7833 - accuracy: 0.7167 - val_loss: 1.7854 - val_accuracy: 0.3147\n",
      "Epoch 12/20\n",
      "600/600 [==============================] - 0s 747us/sample - loss: 0.7244 - accuracy: 0.7300 - val_loss: 1.8657 - val_accuracy: 0.3147\n",
      "Epoch 13/20\n",
      "600/600 [==============================] - 0s 817us/sample - loss: 0.6228 - accuracy: 0.7983 - val_loss: 1.9362 - val_accuracy: 0.3096\n",
      "Epoch 14/20\n",
      "600/600 [==============================] - 0s 762us/sample - loss: 0.5919 - accuracy: 0.8050 - val_loss: 2.0524 - val_accuracy: 0.3096\n",
      "Epoch 15/20\n",
      "600/600 [==============================] - 0s 761us/sample - loss: 0.5015 - accuracy: 0.8283 - val_loss: 2.3810 - val_accuracy: 0.2690\n",
      "Epoch 16/20\n",
      "600/600 [==============================] - 0s 754us/sample - loss: 0.5205 - accuracy: 0.8183 - val_loss: 1.9890 - val_accuracy: 0.3198\n",
      "Epoch 17/20\n",
      "600/600 [==============================] - 0s 759us/sample - loss: 0.4211 - accuracy: 0.8600 - val_loss: 2.5654 - val_accuracy: 0.3096\n",
      "Epoch 18/20\n",
      "600/600 [==============================] - 0s 737us/sample - loss: 0.3864 - accuracy: 0.8650 - val_loss: 2.4397 - val_accuracy: 0.3046\n",
      "Epoch 19/20\n",
      "600/600 [==============================] - 0s 811us/sample - loss: 0.4112 - accuracy: 0.8583 - val_loss: 2.6300 - val_accuracy: 0.3173\n",
      "Epoch 20/20\n",
      "600/600 [==============================] - 0s 748us/sample - loss: 0.3207 - accuracy: 0.8867 - val_loss: 3.0130 - val_accuracy: 0.3198\n"
     ]
    },
    {
     "data": {
      "text/plain": [
       "<tensorflow.python.keras.callbacks.History at 0x28b9de2ba48>"
      ]
     },
     "execution_count": 77,
     "metadata": {},
     "output_type": "execute_result"
    }
   ],
   "source": [
    "model.fit(x_train,\n",
    "         y_train,\n",
    "         epochs=20,\n",
    "         batch_size=32,\n",
    "         validation_data=(x_val,y_val))"
   ]
  },
  {
   "cell_type": "code",
   "execution_count": 78,
   "metadata": {},
   "outputs": [
    {
     "name": "stdout",
     "output_type": "stream",
     "text": [
      "394/394 [==============================] - 0s 268us/sample - loss: 3.0130 - accuracy: 0.3198\n"
     ]
    },
    {
     "data": {
      "text/plain": [
       "[3.0129749472371214, 0.31979695]"
      ]
     },
     "execution_count": 78,
     "metadata": {},
     "output_type": "execute_result"
    }
   ],
   "source": [
    "model.evaluate(x_val,y_val)"
   ]
  },
  {
   "cell_type": "code",
   "execution_count": null,
   "metadata": {},
   "outputs": [],
   "source": []
  }
 ],
 "metadata": {
  "kernelspec": {
   "display_name": "Python (tensorflow-gpu)",
   "language": "python",
   "name": "tensorflow-gpu"
  },
  "language_info": {
   "codemirror_mode": {
    "name": "ipython",
    "version": 3
   },
   "file_extension": ".py",
   "mimetype": "text/x-python",
   "name": "python",
   "nbconvert_exporter": "python",
   "pygments_lexer": "ipython3",
   "version": "3.7.6"
  },
  "toc": {
   "base_numbering": 1,
   "nav_menu": {},
   "number_sections": true,
   "sideBar": true,
   "skip_h1_title": false,
   "title_cell": "Table of Contents",
   "title_sidebar": "Contents",
   "toc_cell": false,
   "toc_position": {},
   "toc_section_display": true,
   "toc_window_display": false
  },
  "varInspector": {
   "cols": {
    "lenName": 16,
    "lenType": 16,
    "lenVar": 40
   },
   "kernels_config": {
    "python": {
     "delete_cmd_postfix": "",
     "delete_cmd_prefix": "del ",
     "library": "var_list.py",
     "varRefreshCmd": "print(var_dic_list())"
    },
    "r": {
     "delete_cmd_postfix": ") ",
     "delete_cmd_prefix": "rm(",
     "library": "var_list.r",
     "varRefreshCmd": "cat(var_dic_list()) "
    }
   },
   "types_to_exclude": [
    "module",
    "function",
    "builtin_function_or_method",
    "instance",
    "_Feature"
   ],
   "window_display": false
  }
 },
 "nbformat": 4,
 "nbformat_minor": 4
}
